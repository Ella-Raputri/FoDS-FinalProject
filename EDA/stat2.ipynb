{
 "cells": [
  {
   "cell_type": "code",
   "execution_count": null,
   "metadata": {},
   "outputs": [],
   "source": [
    "import pandas as pd\n",
    "import scipy.stats as stats\n",
    "import matplotlib.pyplot as plt\n",
    "import seaborn as sns\n",
    "import numpy as np\n",
    "from scipy.stats import boxcox"
   ]
  },
  {
   "cell_type": "code",
   "execution_count": null,
   "metadata": {},
   "outputs": [],
   "source": [
    "pldb = pd.read_csv('pldb.csv')\n",
    "\n",
    "threshold_year = 2000\n",
    "pldb['Category'] = pldb['appeared'].apply(lambda x: 'Older' if x < threshold_year else 'Newer')\n",
    "\n",
    "older_languages = []\n",
    "newer_languages=[]\n",
    "\n",
    "for _,d in pldb.iterrows():\n",
    "    if d['Category'] =='Older': older_languages.append(d['title'])\n",
    "    else: newer_languages.append(d['title'])\n"
   ]
  },
  {
   "cell_type": "code",
   "execution_count": null,
   "metadata": {},
   "outputs": [],
   "source": [
    "gtrend_df = pd.read_csv('googletrends2.csv')\n",
    "\n",
    "non_zero_columns = gtrend_df.loc[:, (gtrend_df != 0).any(axis=0)]\n",
    "gtrend_languages = [col for col in non_zero_columns.columns if col != 'Month']  \n",
    "\n",
    "gtrend_older_languages = list(set(gtrend_languages) & set(older_languages))\n",
    "gtrend_newer_languages = list(set(gtrend_languages) & set(newer_languages))\n",
    "gtrend_newer_languages.remove('DML')\n",
    "gtrend_older_languages.append('Assembly')\n",
    "gtrend_newer_languages.append('Arduino')\n",
    "\n",
    "# a = set(gtrend_languages)\n",
    "# b = set(gtrend_older_languages)\n",
    "# c = set(gtrend_newer_languages)\n",
    "\n",
    "# x = a.difference(b)\n",
    "# y = x.difference(c)\n",
    "# y\n",
    "\n",
    "# len(gtrend_older_languages)"
   ]
  },
  {
   "cell_type": "code",
   "execution_count": null,
   "metadata": {},
   "outputs": [],
   "source": [
    "gtrend_newer_scores = gtrend_df[gtrend_newer_languages].mean(axis=0)  \n",
    "gtrend_older_scores = gtrend_df[gtrend_older_languages].mean(axis=0)  "
   ]
  },
  {
   "cell_type": "code",
   "execution_count": null,
   "metadata": {},
   "outputs": [],
   "source": [
    "print(\"Normality Test for Newer Languages:\", stats.shapiro(gtrend_newer_scores))\n",
    "print(\"Normality Test for Older Languages:\", stats.shapiro(gtrend_older_scores))\n",
    "print(stats.levene(gtrend_newer_scores, gtrend_older_scores))  "
   ]
  },
  {
   "cell_type": "code",
   "execution_count": null,
   "metadata": {},
   "outputs": [],
   "source": [
    "gtrend_newer_scores_boxcox,_ = boxcox(gtrend_newer_scores + np.abs(gtrend_newer_scores.min()) + 1e-9)\n",
    "gtrend_older_scores_boxcox,_ = boxcox(gtrend_older_scores + np.abs(gtrend_older_scores.min()) + 1e-9)\n",
    "\n",
    "print(\"Normality Test for Newer Languages:\", stats.shapiro(gtrend_newer_scores_boxcox))\n",
    "print(\"Normality Test for Older Languages:\", stats.shapiro(gtrend_older_scores_boxcox))\n",
    "print(stats.levene(gtrend_newer_scores_boxcox, gtrend_older_scores_boxcox))  "
   ]
  },
  {
   "cell_type": "code",
   "execution_count": null,
   "metadata": {},
   "outputs": [],
   "source": [
    "t_stat, p_val = stats.ttest_ind(gtrend_newer_scores_boxcox, gtrend_older_scores_boxcox, equal_var=True)\n",
    "print(f\"T-statistic: {t_stat}, P-value: {p_val}\")"
   ]
  },
  {
   "cell_type": "code",
   "execution_count": null,
   "metadata": {},
   "outputs": [],
   "source": [
    "sns.boxplot(data=[gtrend_newer_scores_boxcox, gtrend_older_scores_boxcox], palette='Set2')\n",
    "plt.xticks([0, 1], ['Newer Languages', 'Older Languages'])\n",
    "plt.ylabel('Google Trends Scores')\n",
    "plt.title('Google Trends Scores: Newer vs Older Languages')\n",
    "plt.show()"
   ]
  },
  {
   "cell_type": "markdown",
   "metadata": {},
   "source": [
    "------------------------------------------------------------"
   ]
  },
  {
   "cell_type": "code",
   "execution_count": null,
   "metadata": {},
   "outputs": [
    {
     "name": "stdout",
     "output_type": "stream",
     "text": [
      "49\n",
      "49\n"
     ]
    },
    {
     "data": {
      "text/plain": [
       "set()"
      ]
     },
     "execution_count": 128,
     "metadata": {},
     "output_type": "execute_result"
    }
   ],
   "source": [
    "wiki_df = pd.read_csv('cleaned_wikidata22.csv')\n",
    "\n",
    "non_zero_columns = wiki_df.loc[:, (wiki_df != 0).any(axis=0)]\n",
    "wiki_languages = [col for col in non_zero_columns.columns if col != 'Date']  \n",
    "\n",
    "wiki_older_languages = list(set(wiki_languages) & set(older_languages))\n",
    "wiki_newer_languages = list(set(wiki_languages) & set(newer_languages))\n",
    "\n",
    "wiki_newer_languages.append('Arduino')\n",
    "wiki_older_languages.append('Assembly')\n",
    "wiki_older_languages.append('FoxPro')\n",
    "wiki_newer_languages.append('Kernel')\n",
    "wiki_newer_languages.append('SQLAlchemy')"
   ]
  }
 ],
 "metadata": {
  "kernelspec": {
   "display_name": "Python 3",
   "language": "python",
   "name": "python3"
  },
  "language_info": {
   "codemirror_mode": {
    "name": "ipython",
    "version": 3
   },
   "file_extension": ".py",
   "mimetype": "text/x-python",
   "name": "python",
   "nbconvert_exporter": "python",
   "pygments_lexer": "ipython3",
   "version": "3.11.5"
  }
 },
 "nbformat": 4,
 "nbformat_minor": 2
}
