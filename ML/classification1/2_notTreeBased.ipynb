{
 "cells": [
  {
   "cell_type": "code",
   "execution_count": 1,
   "metadata": {},
   "outputs": [],
   "source": [
    "import pandas as pd\n",
    "from sklearn.model_selection import train_test_split, cross_val_score\n",
    "from sklearn.svm import SVC\n",
    "from sklearn.metrics import classification_report, accuracy_score\n",
    "from sklearn.neighbors import KNeighborsClassifier\n",
    "from sklearn.decomposition import PCA\n",
    "from sklearn.preprocessing import StandardScaler\n",
    "from sklearn.neural_network import MLPClassifier\n",
    "from sklearn.naive_bayes import GaussianNB\n",
    "from sklearn.linear_model import LogisticRegression"
   ]
  },
  {
   "cell_type": "code",
   "execution_count": 2,
   "metadata": {},
   "outputs": [],
   "source": [
    "lis=[]"
   ]
  },
  {
   "cell_type": "code",
   "execution_count": 3,
   "metadata": {},
   "outputs": [],
   "source": [
    "df = pd.read_csv(f'data/normalized/language/merge2.csv')\n",
    "labels=['low','high']\n",
    "\n",
    "df[f'tiobe_label'] = df[f'tiobe_label'].astype('category')\n",
    "df[f'tiobe_label_encoded'] = df[f'tiobe_label'].cat.codes\n",
    "X = df[['gtrend','wiki']]\n",
    "y = df[f'tiobe_label_encoded']  \n",
    "\n",
    "X_train, X_test, y_train, y_test = train_test_split(X, y, test_size=0.2, random_state=42)\n",
    "\n",
    "svc_model = SVC(random_state=42)\n",
    "svc_model.fit(X_train, y_train)\n",
    "y_pred = svc_model.predict(X_test)\n",
    "accuracy = accuracy_score(y_test, y_pred)\n",
    "svc_cv_scores = cross_val_score(svc_model, X, y, cv=5, scoring='accuracy') \n",
    "lis.append(svc_cv_scores.mean())\n",
    "\n",
    "maximum_knn_score =0\n",
    "for nilai in range(1,20):\n",
    "    knn_model = KNeighborsClassifier(n_neighbors=nilai)  \n",
    "    knn_model.fit(X_train, y_train)\n",
    "    y_pred_knn = knn_model.predict(X_test)\n",
    "    knn_accuracy = accuracy_score(y_test, y_pred_knn)\n",
    "    knn_cv_scores = cross_val_score(knn_model, X, y, cv=5, scoring='accuracy')\n",
    "    maximum_knn_score = max(knn_cv_scores.mean(), maximum_knn_score)\n",
    "lis.append(maximum_knn_score)\n",
    "\n",
    "\n",
    "scaler = StandardScaler()\n",
    "X_scaled = scaler.fit_transform(X)\n",
    "pca = PCA(n_components=2) \n",
    "X_pca = pca.fit_transform(X_scaled)\n",
    "X_train_pca, X_test_pca, y_train_pca, y_test_pca = train_test_split(X_pca, y, test_size=0.2, random_state=42)\n",
    "pca_model = MLPClassifier(hidden_layer_sizes=(50, 50), max_iter=1000, random_state=42)\n",
    "pca_model.fit(X_train_pca, y_train_pca)\n",
    "y_pred_pca = pca_model.predict(X_test_pca)\n",
    "pca_cv_scores = cross_val_score(pca_model, X_pca, y, cv=5, scoring='accuracy')\n",
    "lis.append(pca_cv_scores.mean())\n",
    "\n",
    "mlp_model = MLPClassifier(hidden_layer_sizes=(50, 50), max_iter=1000, random_state=42)\n",
    "mlp_model.fit(X_train, y_train)\n",
    "y_pred_mlp = mlp_model.predict(X_test)\n",
    "mlp_cv_scores = cross_val_score(mlp_model, X, y, cv=5, scoring='accuracy')\n",
    "lis.append(mlp_cv_scores.mean())\n",
    "\n",
    "nb_model = GaussianNB()\n",
    "nb_model.fit(X_train, y_train)\n",
    "y_pred_nb = nb_model.predict(X_test)\n",
    "nb_accuracy = accuracy_score(y_test, y_pred_nb)\n",
    "nb_cv_scores = cross_val_score(nb_model, X, y, cv=5, scoring='accuracy')\n",
    "lis.append(nb_cv_scores.mean())\n",
    "\n",
    "lr_model = LogisticRegression(max_iter=1000, random_state=42)\n",
    "lr_model.fit(X_train, y_train)\n",
    "y_pred_lr = lr_model.predict(X_test)\n",
    "lr_accuracy = accuracy_score(y_test, y_pred_lr)\n",
    "lr_cv_scores = cross_val_score(lr_model, X, y, cv=5, scoring='accuracy')\n",
    "lis.append(lr_cv_scores.mean())\n",
    "\n"
   ]
  },
  {
   "cell_type": "code",
   "execution_count": 4,
   "metadata": {},
   "outputs": [
    {
     "name": "stdout",
     "output_type": "stream",
     "text": [
      "0.61,  \n",
      "0.61,  \n",
      "0.60,  \n",
      "0.61,  \n",
      "0.67,  \n",
      "0.65,  \n"
     ]
    }
   ],
   "source": [
    "for v in lis:\n",
    "    print(\"{:.2f}\".format(v), end=',  ')\n",
    "    print()\n",
    "    "
   ]
  }
 ],
 "metadata": {
  "kernelspec": {
   "display_name": "Python 3",
   "language": "python",
   "name": "python3"
  },
  "language_info": {
   "codemirror_mode": {
    "name": "ipython",
    "version": 3
   },
   "file_extension": ".py",
   "mimetype": "text/x-python",
   "name": "python",
   "nbconvert_exporter": "python",
   "pygments_lexer": "ipython3",
   "version": "3.11.5"
  }
 },
 "nbformat": 4,
 "nbformat_minor": 2
}
