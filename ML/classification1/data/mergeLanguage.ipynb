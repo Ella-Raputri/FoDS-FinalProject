{
 "cells": [
  {
   "cell_type": "code",
   "execution_count": 1,
   "metadata": {},
   "outputs": [],
   "source": [
    "import pandas as pd"
   ]
  },
  {
   "cell_type": "code",
   "execution_count": 2,
   "metadata": {},
   "outputs": [],
   "source": [
    "wiki = pd.read_csv(\"new/wiki.csv\")\n",
    "tiobe = pd.read_csv(\"new/tiobe.csv\")\n",
    "gtrend = pd.read_csv(\"new/gtrend.csv\")\n",
    "languages = ['Java', 'JavaScript', 'PHP', 'Python', 'SQL', 'C++', 'C']"
   ]
  },
  {
   "cell_type": "code",
   "execution_count": 3,
   "metadata": {},
   "outputs": [],
   "source": [
    "def classify_tiobe(value, low_threshold, medium_threshold):\n",
    "    if value <= low_threshold:\n",
    "        return 'low'\n",
    "    elif value <= medium_threshold:\n",
    "        return 'medium'\n",
    "    else:\n",
    "        return 'high'"
   ]
  },
  {
   "cell_type": "code",
   "execution_count": 4,
   "metadata": {},
   "outputs": [],
   "source": [
    "new_df = pd.DataFrame()\n",
    "\n",
    "for language in languages:\n",
    "    wiki_subset = wiki[['Month', language]].rename(columns={language: f'wiki'})\n",
    "    tiobe_subset = tiobe[['Month', language]].rename(columns={language: f'tiobe'})\n",
    "    gtrend_subset = gtrend[['Month', language]].rename(columns={language: f'gtrend'})\n",
    "\n",
    "    merged_df = pd.merge(tiobe_subset, wiki_subset, on='Month')\n",
    "    merged_df = pd.merge(merged_df, gtrend_subset, on='Month')\n",
    "    new_df = pd.concat([new_df, merged_df], sort=False)\n"
   ]
  },
  {
   "cell_type": "code",
   "execution_count": 5,
   "metadata": {},
   "outputs": [],
   "source": [
    "low_threshold = new_df[f'tiobe'].quantile(0.33)  \n",
    "medium_threshold = new_df[f'tiobe'].quantile(0.66)\n",
    "\n",
    "new_df[f'tiobe_label'] = new_df[f'tiobe'].apply(\n",
    "    lambda x: classify_tiobe(x, low_threshold, medium_threshold)\n",
    ")\n",
    "\n",
    "low_threshold = new_df[f'wiki'].quantile(0.33)  \n",
    "medium_threshold = new_df[f'wiki'].quantile(0.66)\n",
    "\n",
    "new_df[f'wiki_label'] = new_df[f'wiki'].apply(\n",
    "    lambda x: classify_tiobe(x, low_threshold, medium_threshold)\n",
    ")\n",
    "\n",
    "low_threshold = new_df[f'gtrend'].quantile(0.33)  \n",
    "medium_threshold = new_df[f'gtrend'].quantile(0.66)\n",
    "\n",
    "new_df[f'gtrend_label'] = new_df[f'gtrend'].apply(\n",
    "    lambda x: classify_tiobe(x, low_threshold, medium_threshold)\n",
    ")\n",
    "\n",
    "new_df.to_csv(f\"new/language/merge.csv\", index=False)"
   ]
  },
  {
   "cell_type": "code",
   "execution_count": 6,
   "metadata": {},
   "outputs": [],
   "source": [
    "wiki = pd.read_csv(\"normalized/wiki.csv\")\n",
    "tiobe = pd.read_csv(\"normalized/tiobe.csv\")\n",
    "gtrend = pd.read_csv(\"normalized/gtrend.csv\")"
   ]
  },
  {
   "cell_type": "code",
   "execution_count": 7,
   "metadata": {},
   "outputs": [],
   "source": [
    "new_df = pd.DataFrame()\n",
    "\n",
    "for language in languages:\n",
    "    wiki_subset = wiki[['Month', language]].rename(columns={language: f'wiki'})\n",
    "    tiobe_subset = tiobe[['Month', language]].rename(columns={language: f'tiobe'})\n",
    "    gtrend_subset = gtrend[['Month', language]].rename(columns={language: f'gtrend'})\n",
    "\n",
    "    merged_df = pd.merge(tiobe_subset, wiki_subset, on='Month')\n",
    "    merged_df = pd.merge(merged_df, gtrend_subset, on='Month')\n",
    "    new_df = pd.concat([new_df, merged_df], sort=False)\n"
   ]
  },
  {
   "cell_type": "code",
   "execution_count": 8,
   "metadata": {},
   "outputs": [],
   "source": [
    "low_threshold = new_df[f'tiobe'].quantile(0.33)  \n",
    "medium_threshold = new_df[f'tiobe'].quantile(0.66)\n",
    "\n",
    "new_df[f'tiobe_label'] = new_df[f'tiobe'].apply(\n",
    "    lambda x: classify_tiobe(x, low_threshold, medium_threshold)\n",
    ")\n",
    "\n",
    "low_threshold = new_df[f'wiki'].quantile(0.33)  \n",
    "medium_threshold = new_df[f'wiki'].quantile(0.66)\n",
    "\n",
    "new_df[f'wiki_label'] = new_df[f'wiki'].apply(\n",
    "    lambda x: classify_tiobe(x, low_threshold, medium_threshold)\n",
    ")\n",
    "\n",
    "low_threshold = new_df[f'gtrend'].quantile(0.33)  \n",
    "medium_threshold = new_df[f'gtrend'].quantile(0.66)\n",
    "\n",
    "new_df[f'gtrend_label'] = new_df[f'gtrend'].apply(\n",
    "    lambda x: classify_tiobe(x, low_threshold, medium_threshold)\n",
    ")\n",
    "\n",
    "new_df.to_csv(f\"normalized/language/merge.csv\", index=False)"
   ]
  }
 ],
 "metadata": {
  "kernelspec": {
   "display_name": "Python 3",
   "language": "python",
   "name": "python3"
  },
  "language_info": {
   "codemirror_mode": {
    "name": "ipython",
    "version": 3
   },
   "file_extension": ".py",
   "mimetype": "text/x-python",
   "name": "python",
   "nbconvert_exporter": "python",
   "pygments_lexer": "ipython3",
   "version": "3.11.5"
  }
 },
 "nbformat": 4,
 "nbformat_minor": 2
}
