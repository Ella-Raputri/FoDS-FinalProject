{
 "cells": [
  {
   "cell_type": "code",
   "execution_count": 1,
   "metadata": {},
   "outputs": [],
   "source": [
    "import pandas as pd"
   ]
  },
  {
   "cell_type": "code",
   "execution_count": 2,
   "metadata": {},
   "outputs": [],
   "source": [
    "wiki = pd.read_csv(\"new/wiki.csv\")\n",
    "tiobe = pd.read_csv(\"new/tiobe.csv\")\n",
    "gtrend = pd.read_csv(\"new/gtrend.csv\")\n",
    "languages = ['Java', 'JavaScript', 'PHP', 'Python', 'SQL', 'C++', 'C']"
   ]
  },
  {
   "cell_type": "code",
   "execution_count": 3,
   "metadata": {},
   "outputs": [],
   "source": [
    "def classify_tiobe(value, low_threshold):\n",
    "    if value <= low_threshold:\n",
    "        return 'low'\n",
    "    else:\n",
    "        return 'high'"
   ]
  },
  {
   "cell_type": "code",
   "execution_count": 4,
   "metadata": {},
   "outputs": [],
   "source": [
    "for language in languages:\n",
    "    wiki_subset = wiki[['Month', language]].rename(columns={language: f'{language}_wiki'})\n",
    "    tiobe_subset = tiobe[['Month', language]].rename(columns={language: f'{language}_tiobe'})\n",
    "    gtrend_subset = gtrend[['Month', language]].rename(columns={language: f'{language}_gtrend'})\n",
    "\n",
    "    merged_df = pd.merge(tiobe_subset, wiki_subset, on='Month')\n",
    "    merged_df = pd.merge(merged_df, gtrend_subset, on='Month')\n",
    "\n",
    "    low_threshold = merged_df[f'{language}_tiobe'].quantile(0.5)  \n",
    "\n",
    "    merged_df[f'{language}_tiobe_label'] = merged_df[f'{language}_tiobe'].apply(\n",
    "        lambda x: classify_tiobe(x, low_threshold)\n",
    "    )\n",
    "\n",
    "    low_threshold = merged_df[f'{language}_wiki'].quantile(0.5)  \n",
    "\n",
    "    merged_df[f'{language}_wiki_label'] = merged_df[f'{language}_wiki'].apply(\n",
    "        lambda x: classify_tiobe(x, low_threshold)\n",
    "    )\n",
    "\n",
    "    low_threshold = merged_df[f'{language}_gtrend'].quantile(0.5)  \n",
    "\n",
    "    merged_df[f'{language}_gtrend_label'] = merged_df[f'{language}_gtrend'].apply(\n",
    "        lambda x: classify_tiobe(x, low_threshold)\n",
    "    )\n",
    "\n",
    "    merged_df.to_csv(f\"new/language2/{language}.csv\", index=False)\n"
   ]
  },
  {
   "cell_type": "code",
   "execution_count": 5,
   "metadata": {},
   "outputs": [],
   "source": [
    "wiki = pd.read_csv(\"normalized/wiki.csv\")\n",
    "tiobe = pd.read_csv(\"normalized/tiobe.csv\")\n",
    "gtrend = pd.read_csv(\"normalized/gtrend.csv\")"
   ]
  },
  {
   "cell_type": "code",
   "execution_count": 6,
   "metadata": {},
   "outputs": [],
   "source": [
    "for language in languages:\n",
    "    wiki_subset = wiki[['Month', language]].rename(columns={language: f'{language}_wiki'})\n",
    "    tiobe_subset = tiobe[['Month', language]].rename(columns={language: f'{language}_tiobe'})\n",
    "    gtrend_subset = gtrend[['Month', language]].rename(columns={language: f'{language}_gtrend'})\n",
    "\n",
    "    merged_df = pd.merge(tiobe_subset, wiki_subset, on='Month')\n",
    "    merged_df = pd.merge(merged_df, gtrend_subset, on='Month')\n",
    "\n",
    "    low_threshold = merged_df[f'{language}_tiobe'].quantile(0.5)  \n",
    "\n",
    "    merged_df[f'{language}_tiobe_label'] = merged_df[f'{language}_tiobe'].apply(\n",
    "        lambda x: classify_tiobe(x, low_threshold)\n",
    "    )\n",
    "\n",
    "    low_threshold = merged_df[f'{language}_wiki'].quantile(0.5)  \n",
    "\n",
    "    merged_df[f'{language}_wiki_label'] = merged_df[f'{language}_wiki'].apply(\n",
    "        lambda x: classify_tiobe(x, low_threshold)\n",
    "    )\n",
    "\n",
    "    low_threshold = merged_df[f'{language}_gtrend'].quantile(0.5)  \n",
    "\n",
    "    merged_df[f'{language}_gtrend_label'] = merged_df[f'{language}_gtrend'].apply(\n",
    "        lambda x: classify_tiobe(x, low_threshold)\n",
    "    )\n",
    "\n",
    "    merged_df.to_csv(f\"normalized/language2/{language}.csv\", index=False)\n"
   ]
  }
 ],
 "metadata": {
  "kernelspec": {
   "display_name": "Python 3",
   "language": "python",
   "name": "python3"
  },
  "language_info": {
   "codemirror_mode": {
    "name": "ipython",
    "version": 3
   },
   "file_extension": ".py",
   "mimetype": "text/x-python",
   "name": "python",
   "nbconvert_exporter": "python",
   "pygments_lexer": "ipython3",
   "version": "3.11.5"
  }
 },
 "nbformat": 4,
 "nbformat_minor": 2
}
