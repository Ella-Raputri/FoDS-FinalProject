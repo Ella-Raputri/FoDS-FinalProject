{
 "cells": [
  {
   "cell_type": "code",
   "execution_count": 1,
   "metadata": {},
   "outputs": [],
   "source": [
    "import pandas as pd\n",
    "import re\n",
    "import ast\n",
    "from sklearn.impute import SimpleImputer"
   ]
  },
  {
   "cell_type": "code",
   "execution_count": null,
   "metadata": {},
   "outputs": [],
   "source": [
    "job_df = pd.read_csv('job_cleaned.csv')\n",
    "job_df['programming language'] = job_df['programming language'].apply(\n",
    "    lambda x: ast.literal_eval(x) if isinstance(x, str) else x\n",
    ")\n",
    "job_df = job_df[job_df['programming language'].str.len() > 0].reset_index(drop=True)\n",
    "job_df.info()"
   ]
  },
  {
   "cell_type": "code",
   "execution_count": null,
   "metadata": {},
   "outputs": [],
   "source": [
    "d = {}\n",
    "\n",
    "def note_numlanguage(languages):\n",
    "    for lang_list in languages:\n",
    "        for lang in lang_list:  \n",
    "            if lang in d:\n",
    "                d[lang] += 1  \n",
    "            else:\n",
    "                d[lang] = 1  \n",
    "\n",
    "note_numlanguage(job_df['programming language'])\n",
    "\n",
    "language_df = pd.DataFrame(columns=['programming language', 'job amount'])\n",
    "print(len(d))\n",
    "for key, value in d.items():\n",
    "    new_row ={'programming language':key, 'job amount':value}\n",
    "    language_df = language_df._append(new_row, ignore_index=True)\n",
    "    print(f\"{key}: {value}\")"
   ]
  },
  {
   "cell_type": "code",
   "execution_count": null,
   "metadata": {},
   "outputs": [],
   "source": [
    "language_list = language_df['programming language'].to_list()\n",
    "language_salary_dict={}\n",
    "language_location_dict={}\n",
    "\n",
    "for lang in language_list:\n",
    "    language_salary_dict[lang] = 0\n",
    "    language_location_dict[lang] = []\n",
    "\n",
    "print(language_salary_dict)"
   ]
  },
  {
   "cell_type": "code",
   "execution_count": null,
   "metadata": {},
   "outputs": [],
   "source": [
    "for _, row in job_df.iterrows():\n",
    "    salary = row['salary']\n",
    "    for lang in row['programming language']:\n",
    "        language_salary_dict[lang] += salary\n",
    "\n",
    "print(language_salary_dict)"
   ]
  },
  {
   "cell_type": "code",
   "execution_count": null,
   "metadata": {},
   "outputs": [],
   "source": [
    "amount_list = language_df['job amount'].to_list()\n",
    "\n",
    "i=0\n",
    "for key,val in language_salary_dict.items():\n",
    "    language_salary_dict[key] = val/amount_list[i]\n",
    "    i+=1\n",
    "\n",
    "print(language_salary_dict)\n"
   ]
  },
  {
   "cell_type": "code",
   "execution_count": null,
   "metadata": {},
   "outputs": [],
   "source": [
    "language_salary_df = pd.DataFrame(list(language_salary_dict.items()), columns=['programming language', 'average salary'])\n",
    "language_df = pd.merge(language_df, language_salary_df, on='programming language')\n",
    "\n",
    "language_df.head()"
   ]
  },
  {
   "cell_type": "code",
   "execution_count": null,
   "metadata": {},
   "outputs": [],
   "source": [
    "for _, row in job_df.iterrows():\n",
    "    location = row['location']\n",
    "    for lang in row['programming language']:\n",
    "        cleaned_text = re.sub(r'\\b\\w+(?:[\\s-]\\w+)*,\\s*', '', location)\n",
    "        if(cleaned_text!='Indonesia'): \n",
    "            if('Yogyakarta' in cleaned_text): cleaned_text='Yogyakarta'\n",
    "            language_location_dict[lang].append(cleaned_text)\n",
    "        else:\n",
    "            match = re.search(r'^\\s*(\\w+(?:[\\s-]\\w+)*)\\s*,', location)\n",
    "            if match: language_location_dict[lang].append(match.group(1))\n",
    "            else: continue\n",
    "\n",
    "\n",
    "print(language_location_dict)"
   ]
  },
  {
   "cell_type": "code",
   "execution_count": null,
   "metadata": {},
   "outputs": [],
   "source": [
    "for key, lis in language_location_dict.items():\n",
    "    lis2 = list(set(lis))\n",
    "    language_location_dict[key] = lis2\n",
    "\n",
    "print(language_location_dict)"
   ]
  },
  {
   "cell_type": "code",
   "execution_count": null,
   "metadata": {},
   "outputs": [],
   "source": [
    "language_location_df = pd.DataFrame(list(language_location_dict.items()), columns=['programming language', 'location'])\n",
    "language_df = pd.merge(language_df, language_location_df, on='programming language')\n",
    "\n",
    "language_df.head()"
   ]
  },
  {
   "cell_type": "code",
   "execution_count": 13,
   "metadata": {},
   "outputs": [],
   "source": [
    "language_df.to_csv('language_list.csv', index=False)"
   ]
  },
  {
   "cell_type": "code",
   "execution_count": null,
   "metadata": {},
   "outputs": [],
   "source": [
    "language_df.describe()"
   ]
  }
 ],
 "metadata": {
  "kernelspec": {
   "display_name": "Python 3",
   "language": "python",
   "name": "python3"
  },
  "language_info": {
   "codemirror_mode": {
    "name": "ipython",
    "version": 3
   },
   "file_extension": ".py",
   "mimetype": "text/x-python",
   "name": "python",
   "nbconvert_exporter": "python",
   "pygments_lexer": "ipython3",
   "version": "3.11.5"
  }
 },
 "nbformat": 4,
 "nbformat_minor": 2
}
