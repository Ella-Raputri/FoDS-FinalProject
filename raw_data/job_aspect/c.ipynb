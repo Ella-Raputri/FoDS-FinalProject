{
 "cells": [
  {
   "cell_type": "code",
   "execution_count": 30,
   "metadata": {},
   "outputs": [],
   "source": [
    "import pandas as pd\n",
    "import ast"
   ]
  },
  {
   "cell_type": "code",
   "execution_count": 31,
   "metadata": {},
   "outputs": [],
   "source": [
    "df = pd.read_csv('language_list22.csv')\n",
    "df['location'] = df['location'].apply(\n",
    "    lambda x: ast.literal_eval(x) if isinstance(x, str) else x\n",
    ")"
   ]
  },
  {
   "cell_type": "code",
   "execution_count": 32,
   "metadata": {},
   "outputs": [
    {
     "data": {
      "text/html": [
       "<div>\n",
       "<style scoped>\n",
       "    .dataframe tbody tr th:only-of-type {\n",
       "        vertical-align: middle;\n",
       "    }\n",
       "\n",
       "    .dataframe tbody tr th {\n",
       "        vertical-align: top;\n",
       "    }\n",
       "\n",
       "    .dataframe thead th {\n",
       "        text-align: right;\n",
       "    }\n",
       "</style>\n",
       "<table border=\"1\" class=\"dataframe\">\n",
       "  <thead>\n",
       "    <tr style=\"text-align: right;\">\n",
       "      <th></th>\n",
       "      <th>programming language</th>\n",
       "      <th>job amount</th>\n",
       "      <th>average salary</th>\n",
       "      <th>location</th>\n",
       "    </tr>\n",
       "  </thead>\n",
       "  <tbody>\n",
       "    <tr>\n",
       "      <th>0</th>\n",
       "      <td>Java</td>\n",
       "      <td>728</td>\n",
       "      <td>6.153528e+06</td>\n",
       "      <td>[East Kalimantan, West Java, Bali, Yogyakarta,...</td>\n",
       "    </tr>\n",
       "    <tr>\n",
       "      <th>1</th>\n",
       "      <td>JavaScript</td>\n",
       "      <td>1111</td>\n",
       "      <td>6.168157e+06</td>\n",
       "      <td>[East Kalimantan, West Java, Bali, Yogyakarta,...</td>\n",
       "    </tr>\n",
       "    <tr>\n",
       "      <th>2</th>\n",
       "      <td>Dart</td>\n",
       "      <td>32</td>\n",
       "      <td>6.250161e+06</td>\n",
       "      <td>[West Java, Yogyakarta, East Java, Jakarta, Ba...</td>\n",
       "    </tr>\n",
       "    <tr>\n",
       "      <th>3</th>\n",
       "      <td>Node.js</td>\n",
       "      <td>450</td>\n",
       "      <td>5.596209e+06</td>\n",
       "      <td>[West Java, Bali, Yogyakarta, East Java, Jakar...</td>\n",
       "    </tr>\n",
       "    <tr>\n",
       "      <th>4</th>\n",
       "      <td>PHP</td>\n",
       "      <td>505</td>\n",
       "      <td>5.762279e+06</td>\n",
       "      <td>[West Java, Bali, Yogyakarta, East Java, Jakar...</td>\n",
       "    </tr>\n",
       "  </tbody>\n",
       "</table>\n",
       "</div>"
      ],
      "text/plain": [
       "  programming language  job amount  average salary  \\\n",
       "0                 Java         728    6.153528e+06   \n",
       "1           JavaScript        1111    6.168157e+06   \n",
       "2                 Dart          32    6.250161e+06   \n",
       "3              Node.js         450    5.596209e+06   \n",
       "4                  PHP         505    5.762279e+06   \n",
       "\n",
       "                                            location  \n",
       "0  [East Kalimantan, West Java, Bali, Yogyakarta,...  \n",
       "1  [East Kalimantan, West Java, Bali, Yogyakarta,...  \n",
       "2  [West Java, Yogyakarta, East Java, Jakarta, Ba...  \n",
       "3  [West Java, Bali, Yogyakarta, East Java, Jakar...  \n",
       "4  [West Java, Bali, Yogyakarta, East Java, Jakar...  "
      ]
     },
     "execution_count": 32,
     "metadata": {},
     "output_type": "execute_result"
    }
   ],
   "source": [
    "df['location'] = df['location'].apply(lambda loc: list(set(loc)) if isinstance(loc, list) else loc)\n",
    "\n",
    "df.head()"
   ]
  },
  {
   "cell_type": "code",
   "execution_count": 33,
   "metadata": {},
   "outputs": [],
   "source": [
    "df.to_csv('language_list33.csv', index=False)"
   ]
  }
 ],
 "metadata": {
  "kernelspec": {
   "display_name": "Python 3",
   "language": "python",
   "name": "python3"
  },
  "language_info": {
   "codemirror_mode": {
    "name": "ipython",
    "version": 3
   },
   "file_extension": ".py",
   "mimetype": "text/x-python",
   "name": "python",
   "nbconvert_exporter": "python",
   "pygments_lexer": "ipython3",
   "version": "3.11.5"
  }
 },
 "nbformat": 4,
 "nbformat_minor": 2
}
