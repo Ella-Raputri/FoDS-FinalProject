{
 "cells": [
  {
   "cell_type": "code",
   "execution_count": 1,
   "metadata": {},
   "outputs": [],
   "source": [
    "import pandas as pd"
   ]
  },
  {
   "cell_type": "code",
   "execution_count": 2,
   "metadata": {},
   "outputs": [],
   "source": [
    "st = pd.read_csv('stackOverflow2.csv')"
   ]
  },
  {
   "cell_type": "code",
   "execution_count": 6,
   "metadata": {},
   "outputs": [
    {
     "name": "stdout",
     "output_type": "stream",
     "text": [
      "{'programming language': ['Java', 'JavaScript', 'Dart', 'Node.js', 'PHP', 'Visual Basic', 'MySQL', 'TypeScript', 'SQL', 'PostgreSQL', 'Flow', 'CHAIN', 'Z++', 'FOCUS', 'Python', 'kernel', 'Address', 'ASP.NET', 'C#', 'JS++', 'C', 'GraphQL', 'Go', 'Ada', 'Ruby', 'MariaDB', 'Scheme', 'Expect', 'Copilot', 'Solidity', 'solid', 'pipelines', 'RAPID', 'NPL', 'april', 'flagship', 'Swift', 'Small', 'Kotlin', 'Simplicity', 'Perl', 'C++', 'Scratch', 'R', 'F', 'Rust', 'Groovy', 'Scala', 'Revolution', 'MATLAB', 'Apex', 'Click', 'Adept', '.QL', 'dss', 'SPARK', 'Pure', 'GAP', 'Falcon', 'Alpha', 'Plot', 'Joy', 'CONVERT', 'Frank', 'P', 'lever', 'JADE', 'Blue', 'THINK C', 'Inform', 'NATURAL', 'Reason', 'ARM', 'SR', 'Crystal', 'PowerHouse', 'Conceptual', 'Factor', 'False', 'RPL', 'SQLite', 'fe', 'Chrome', 'Tao', 'Flavors', 'Cyber', 'Bash', 'DEMOS', 'Q', 'PROMETHEUS', 'Gist', 'PILOT', 'REDUCE', 'Monkey', 'Z', 'abs', 'FaCT', 'MACRO', 'FLUX', 'ECMAScript', 'Argus', 'Assembly', 'PowerShell', 'Visual FoxPro', 'FoxPRO', 'Delphi', 'SCM', 'Red', 'MetaL', 'SaltStack', 'bamboo', 'Mercury', 'UNITY', 'Arduino', 'SAS', 'SPSS', 'SIGNAL', 'Spatial', 'AL', 'jasper', 'PowerBuilder', 'SRL', 'Logos', 'Virgil', 'Dale', 'LUCID', 'CUDA', 'LINQ', 'JOVIAL', 'APL', 'BASIC A+', 'Cell', 'MIMIC', 'Charity', 'Meson', 'DYNAMO', 'Haskell', 'PLANNER', 'Gherkin', 'frame', 'Tea', 'Sqlalchemy', 'Erlang', 'Sage', 'Lisp', 'Lua', 'F#', 'bloom', 'score', 'HL7', 'VBA', 'ActionScript', 'Elixir', 'MAPPER', 'Boo', 'Pan', 'l2', 'Augment', 'FP', 'Vale', 'candor', 'Stata', 'Arc', 'DML', 'IPL', 'XL', 'Star', 'fox', 'LEAP', 'Dockerfile', 'Dc', 'VBScript', 'CORAL', 'UniVerse', 'C2'], 'stack overflow count': [2531, 4633, 963, 2207, 3147, 270, 3969, 1897, 3529, 2944, 8, 0, 0, 0, 2921, 0, 0, 276, 1555, 0, 1042, 0, 1806, 26, 726, 1996, 0, 0, 0, 67, 0, 0, 0, 0, 0, 0, 609, 0, 1243, 0, 129, 1477, 0, 391, 0, 768, 93, 225, 0, 203, 18, 0, 0, 0, 0, 62, 0, 0, 0, 0, 0, 0, 0, 0, 0, 0, 0, 0, 0, 0, 0, 0, 0, 0, 38, 0, 0, 0, 0, 0, 2010, 0, 0, 0, 0, 0, 509, 0, 0, 0, 0, 0, 0, 0, 0, 0, 0, 0, 0, 0, 0, 304, 230, 0, 0, 131, 0, 0, 0, 0, 0, 0, 0, 39, 14, 0, 0, 0, 0, 0, 0, 0, 0, 0, 0, 0, 0, 0, 0, 28, 0, 0, 0, 0, 0, 93, 142, 0, 0, 0, 0, 0, 118, 0, 23, 167, 95, 0, 0, 0, 287, 0, 189, 0, 0, 0, 0, 0, 0, 0, 0, 0, 0, 0, 0, 0, 0, 0, 0, 0, 0, 0, 0, 0, 0]}\n"
     ]
    }
   ],
   "source": [
    "d = {}\n",
    "d['programming language'] = []\n",
    "d['stack overflow count'] =[]\n",
    "\n",
    "\n",
    "for _,row in st.iterrows():\n",
    "    d['programming language'].append(row['programming language'])\n",
    "    val =0 \n",
    "    for i in range(2014, 2025):\n",
    "        s = 'stack_overflow_count_' + str(i)\n",
    "        val += row[s]\n",
    "    d['stack overflow count'].append(val)\n",
    "\n",
    "print(d)"
   ]
  },
  {
   "cell_type": "code",
   "execution_count": 8,
   "metadata": {},
   "outputs": [
    {
     "data": {
      "text/html": [
       "<div>\n",
       "<style scoped>\n",
       "    .dataframe tbody tr th:only-of-type {\n",
       "        vertical-align: middle;\n",
       "    }\n",
       "\n",
       "    .dataframe tbody tr th {\n",
       "        vertical-align: top;\n",
       "    }\n",
       "\n",
       "    .dataframe thead th {\n",
       "        text-align: right;\n",
       "    }\n",
       "</style>\n",
       "<table border=\"1\" class=\"dataframe\">\n",
       "  <thead>\n",
       "    <tr style=\"text-align: right;\">\n",
       "      <th></th>\n",
       "      <th>programming language</th>\n",
       "      <th>stack overflow count</th>\n",
       "    </tr>\n",
       "  </thead>\n",
       "  <tbody>\n",
       "    <tr>\n",
       "      <th>0</th>\n",
       "      <td>Java</td>\n",
       "      <td>2531</td>\n",
       "    </tr>\n",
       "    <tr>\n",
       "      <th>1</th>\n",
       "      <td>JavaScript</td>\n",
       "      <td>4633</td>\n",
       "    </tr>\n",
       "    <tr>\n",
       "      <th>2</th>\n",
       "      <td>Dart</td>\n",
       "      <td>963</td>\n",
       "    </tr>\n",
       "    <tr>\n",
       "      <th>3</th>\n",
       "      <td>Node.js</td>\n",
       "      <td>2207</td>\n",
       "    </tr>\n",
       "    <tr>\n",
       "      <th>4</th>\n",
       "      <td>PHP</td>\n",
       "      <td>3147</td>\n",
       "    </tr>\n",
       "  </tbody>\n",
       "</table>\n",
       "</div>"
      ],
      "text/plain": [
       "  programming language  stack overflow count\n",
       "0                 Java                  2531\n",
       "1           JavaScript                  4633\n",
       "2                 Dart                   963\n",
       "3              Node.js                  2207\n",
       "4                  PHP                  3147"
      ]
     },
     "execution_count": 8,
     "metadata": {},
     "output_type": "execute_result"
    }
   ],
   "source": [
    "df = pd.DataFrame.from_dict(d)\n",
    "df.head()"
   ]
  },
  {
   "cell_type": "code",
   "execution_count": 9,
   "metadata": {},
   "outputs": [],
   "source": [
    "df.to_csv('stackOverflow3.csv', index=False)"
   ]
  }
 ],
 "metadata": {
  "kernelspec": {
   "display_name": "Python 3",
   "language": "python",
   "name": "python3"
  },
  "language_info": {
   "codemirror_mode": {
    "name": "ipython",
    "version": 3
   },
   "file_extension": ".py",
   "mimetype": "text/x-python",
   "name": "python",
   "nbconvert_exporter": "python",
   "pygments_lexer": "ipython3",
   "version": "3.11.5"
  }
 },
 "nbformat": 4,
 "nbformat_minor": 2
}
