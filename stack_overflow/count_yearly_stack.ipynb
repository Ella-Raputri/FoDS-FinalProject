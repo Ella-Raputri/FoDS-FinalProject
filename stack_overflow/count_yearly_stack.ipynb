{
 "cells": [
  {
   "cell_type": "code",
   "execution_count": 30,
   "metadata": {},
   "outputs": [],
   "source": [
    "import pandas as pd\n",
    "import numpy as np\n",
    "from collections import Counter\n"
   ]
  },
  {
   "cell_type": "code",
   "execution_count": 31,
   "metadata": {},
   "outputs": [
    {
     "data": {
      "text/html": [
       "<div>\n",
       "<style scoped>\n",
       "    .dataframe tbody tr th:only-of-type {\n",
       "        vertical-align: middle;\n",
       "    }\n",
       "\n",
       "    .dataframe tbody tr th {\n",
       "        vertical-align: top;\n",
       "    }\n",
       "\n",
       "    .dataframe thead th {\n",
       "        text-align: right;\n",
       "    }\n",
       "</style>\n",
       "<table border=\"1\" class=\"dataframe\">\n",
       "  <thead>\n",
       "    <tr style=\"text-align: right;\">\n",
       "      <th></th>\n",
       "      <th>programming language</th>\n",
       "    </tr>\n",
       "  </thead>\n",
       "  <tbody>\n",
       "    <tr>\n",
       "      <th>0</th>\n",
       "      <td>Java</td>\n",
       "    </tr>\n",
       "    <tr>\n",
       "      <th>1</th>\n",
       "      <td>JavaScript</td>\n",
       "    </tr>\n",
       "    <tr>\n",
       "      <th>2</th>\n",
       "      <td>Dart</td>\n",
       "    </tr>\n",
       "    <tr>\n",
       "      <th>3</th>\n",
       "      <td>Node.js</td>\n",
       "    </tr>\n",
       "    <tr>\n",
       "      <th>4</th>\n",
       "      <td>PHP</td>\n",
       "    </tr>\n",
       "    <tr>\n",
       "      <th>...</th>\n",
       "      <td>...</td>\n",
       "    </tr>\n",
       "    <tr>\n",
       "      <th>170</th>\n",
       "      <td>Dc</td>\n",
       "    </tr>\n",
       "    <tr>\n",
       "      <th>171</th>\n",
       "      <td>VBScript</td>\n",
       "    </tr>\n",
       "    <tr>\n",
       "      <th>172</th>\n",
       "      <td>CORAL</td>\n",
       "    </tr>\n",
       "    <tr>\n",
       "      <th>173</th>\n",
       "      <td>UniVerse</td>\n",
       "    </tr>\n",
       "    <tr>\n",
       "      <th>174</th>\n",
       "      <td>C2</td>\n",
       "    </tr>\n",
       "  </tbody>\n",
       "</table>\n",
       "<p>175 rows × 1 columns</p>\n",
       "</div>"
      ],
      "text/plain": [
       "    programming language\n",
       "0                   Java\n",
       "1             JavaScript\n",
       "2                   Dart\n",
       "3                Node.js\n",
       "4                    PHP\n",
       "..                   ...\n",
       "170                   Dc\n",
       "171             VBScript\n",
       "172                CORAL\n",
       "173             UniVerse\n",
       "174                   C2\n",
       "\n",
       "[175 rows x 1 columns]"
      ]
     },
     "execution_count": 31,
     "metadata": {},
     "output_type": "execute_result"
    }
   ],
   "source": [
    "df = pd.read_csv('lang.csv')\n",
    "df"
   ]
  },
  {
   "cell_type": "code",
   "execution_count": 32,
   "metadata": {},
   "outputs": [
    {
     "name": "stdout",
     "output_type": "stream",
     "text": [
      "Occurrence Counter:\n",
      "Counter({'JavaScript': 10, 'Node.js': 9, 'PHP': 9, 'SQL': 9, 'Java': 8, 'MongoDB': 8, 'C#': 4, 'AngularJS': 4, 'Python': 3, 'Ruby': 3, 'CoffeeScript': 3, 'Hadoop': 3, 'Arduino / Raspberry Pi': 3, 'C++': 2, 'Objective-C': 2, 'Haskell': 2, 'Dart': 2, 'C': 1, 'ASP.NET': 1, 'scala': 1, 'C++11': 1, 'Redis': 1, 'Go': 1, 'Cordova': 1})\n"
     ]
    }
   ],
   "source": [
    "df['stack_overflow_count_2014'] = 0\n",
    "\n",
    "source = pd.read_csv('data/2014.csv')\n",
    "\n",
    "columns_to_count = [\n",
    "    'Which of the following languages or technologies have you used significantly in the past year?',\n",
    "    'Unnamed: 43', 'Unnamed: 44','Unnamed: 45','Unnamed: 46','Unnamed: 47','Unnamed: 48',\n",
    "    'Unnamed: 49','Unnamed: 50','Unnamed: 51','Unnamed: 52', 'Unnamed: 53',    \n",
    "    'Which technologies are you excited about?','Unnamed: 55','Unnamed: 56','Unnamed: 57','Unnamed: 58',\n",
    "    'Unnamed: 59','Unnamed: 60','Unnamed: 61','Unnamed: 62','Unnamed: 63','Unnamed: 64','Unnamed: 65','Unnamed: 66'\n",
    "]\n",
    "\n",
    "occurrence_counter = Counter()\n",
    "\n",
    "for column in columns_to_count:\n",
    "    if column in source.columns:  \n",
    "        for languages in source[column].dropna():  \n",
    "            occurrence_counter.update(lang.strip() for lang in languages.split(';'))\n",
    "\n",
    "print(\"Occurrence Counter:\")\n",
    "print(occurrence_counter)\n",
    "\n",
    "df['stack_overflow_count_2014'] = df['programming language'].apply(\n",
    "    lambda lang: (\n",
    "        occurrence_counter.get(lang, 0) +\n",
    "        occurrence_counter.get('Arduino / Raspberry Pi', 0) if lang == 'Arduino' else\n",
    "        occurrence_counter.get('scala', 0) if lang == 'Scala' else\n",
    "        occurrence_counter.get(lang, 0)\n",
    "    )\n",
    ")\n"
   ]
  },
  {
   "cell_type": "code",
   "execution_count": 33,
   "metadata": {},
   "outputs": [
    {
     "name": "stdout",
     "output_type": "stream",
     "text": [
      "Occurrence Counter:\n",
      "Counter({'PHP': 94, 'JavaScript': 91, 'SQL': 88, 'Java': 67, 'SQL Server': 39, 'C#': 38, 'Python': 29, 'Node.js': 28, 'AngularJS': 26, 'Visual Basic': 23, 'C': 22, 'C++': 22, 'Ruby': 22, 'Arduino / Raspberry Pi': 13, 'LAMP': 12, 'MongoDB': 12, 'iOS': 10, 'Wordpress': 9, 'C++11': 8, 'Cordova': 8, 'Cloud (AWS, GAE, Azure, etc.)': 8, 'Go': 6, 'Objective-C': 5, 'Perl': 5, 'Redis': 5, 'Swift': 5, 'Hadoop': 5, 'Matlab': 4, 'Scala': 4, 'Cassandra': 3, 'CoffeeScript': 3, 'Sharepoint': 3, 'R': 2, 'Dart': 2, 'SEEBURGER-specific language': 1, 'Delphi': 1, 'delphi': 1, 'Powerbuilder': 1, 'PAWN': 1, 'Haskell': 1, 'Salesforce': 1, 'Spark': 1})\n"
     ]
    }
   ],
   "source": [
    "# 2015\n",
    "df['stack_overflow_count_2015'] = 0\n",
    "\n",
    "source = pd.read_csv('data/2015.csv')\n",
    "\n",
    "columns_to_count = [\n",
    "    'Unnamed: 9','Unnamed: 10','Unnamed: 11','Unnamed: 12','Unnamed: 13','Unnamed: 14','Unnamed: 15',\n",
    "    'Unnamed: 16','Unnamed: 17','Unnamed: 18','Unnamed: 19','Unnamed: 20','Unnamed: 21','Unnamed: 22',\n",
    "    'Unnamed: 23','Unnamed: 24','Unnamed: 25','Unnamed: 26','Unnamed: 27','Unnamed: 28','Unnamed: 29',\n",
    "    'Unnamed: 30','Unnamed: 31','Unnamed: 32','Unnamed: 33','Unnamed: 34','Unnamed: 35', 'Unnamed: 36',\n",
    "    'Unnamed: 37','Unnamed: 38', 'Unnamed: 39', 'Unnamed: 40', 'Unnamed: 41','Unnamed: 42','Unnamed: 43',\n",
    "    'Unnamed: 44','Unnamed: 45', 'Unnamed: 46', 'Unnamed: 47', 'Unnamed: 48','Unnamed: 49','Unnamed: 50',\n",
    "    'Unnamed: 51','Unnamed: 52', 'Unnamed: 53', 'Unnamed: 54', 'Unnamed: 55','Unnamed: 56','Unnamed: 57',\n",
    "    'Unnamed: 58','Unnamed: 59', 'Unnamed: 60', 'Unnamed: 61', 'Unnamed: 62','Unnamed: 63','Unnamed: 64',\n",
    "    'Unnamed: 65','Unnamed: 66', 'Unnamed: 67', 'Unnamed: 68', 'Unnamed: 69','Unnamed: 70','Unnamed: 71',\n",
    "    'Unnamed: 72','Unnamed: 73', 'Unnamed: 74', 'Unnamed: 75', 'Unnamed: 76','Unnamed: 77','Unnamed: 78',\n",
    "    'Unnamed: 79','Unnamed: 80', 'Unnamed: 81', 'Unnamed: 82', 'Unnamed: 83','Unnamed: 84','Unnamed: 85',\n",
    "    'Unnamed: 86','Unnamed: 87', 'Unnamed: 88', 'Unnamed: 89', 'Unnamed: 90'\n",
    "]\n",
    "\n",
    "occurrence_counter = Counter()\n",
    "\n",
    "for column in columns_to_count:\n",
    "    if column in source.columns:  \n",
    "        for languages in source[column].dropna():  \n",
    "            occurrence_counter.update(lang.strip() for lang in languages.split(';'))\n",
    "\n",
    "print(\"Occurrence Counter:\")\n",
    "print(occurrence_counter)\n",
    "\n",
    "df['stack_overflow_count_2015'] = df['programming language'].apply(\n",
    "    lambda lang: (\n",
    "        occurrence_counter.get(lang, 0) +\n",
    "        occurrence_counter.get('Arduino / Raspberry Pi', 0) if lang == 'Arduino' else\n",
    "        occurrence_counter.get('Matlab', 0) if lang == 'MATLAB' else\n",
    "        occurrence_counter.get('C++11', 0) if lang == 'C++' else\n",
    "        occurrence_counter.get(lang, 0)\n",
    "    )\n",
    ")\n"
   ]
  },
  {
   "cell_type": "code",
   "execution_count": 47,
   "metadata": {},
   "outputs": [
    {
     "name": "stdout",
     "output_type": "stream",
     "text": [
      "Occurrence Counter:\n",
      "Counter({'JavaScript': 116, 'Android': 97, 'PHP': 92, 'SQL': 89, 'Java': 85, 'C#': 65, 'Python': 57, 'AngularJS': 50, 'Node.js': 44, 'SQL Server': 44, 'Ruby': 37, 'Visual Basic': 36, 'iOS': 33, 'Swift': 27, 'MongoDB': 26, 'C++': 25, 'Arduino / Raspberry Pi': 23, 'Cloud (AWS, GAE, Azure, etc.)': 23, 'WordPress': 22, 'ReactJS': 21, 'Redis': 17, 'Go': 17, 'C': 17, 'Scala': 15, 'Objective-C': 14, 'LAMP': 12, 'Hadoop': 11, 'Cordova': 10, 'R': 10, 'Windows Phone': 7, 'CoffeeScript': 7, 'Rust': 6, 'Haskell': 6, 'Perl': 5, 'SharePoint': 5, 'F#': 5, 'MATLAB': 4, 'Spark': 4, 'Cassandra': 3, 'Clojure': 2, 'Dart': 2})\n"
     ]
    }
   ],
   "source": [
    "# 2016\n",
    "df['stack_overflow_count_2016'] = 0\n",
    "\n",
    "source = pd.read_csv('data/2016.csv')\n",
    "\n",
    "columns_to_count = [\n",
    "    'tech_do','tech_want'\n",
    "]\n",
    "\n",
    "occurrence_counter = Counter()\n",
    "\n",
    "for column in columns_to_count:\n",
    "    if column in source.columns:  \n",
    "        for languages in source[column].dropna():  \n",
    "            occurrence_counter.update(lang.strip() for lang in languages.split(';'))\n",
    "\n",
    "print(\"Occurrence Counter:\")\n",
    "print(occurrence_counter)\n",
    "\n",
    "df['stack_overflow_count_2016'] = df['programming language'].apply(\n",
    "    lambda lang: (\n",
    "        occurrence_counter.get(lang, 0) +\n",
    "        occurrence_counter.get('Arduino / Raspberry Pi', 0) if lang == 'Arduino' else\n",
    "        occurrence_counter.get(lang, 0)\n",
    "    )\n",
    ")\n"
   ]
  },
  {
   "cell_type": "code",
   "execution_count": 52,
   "metadata": {},
   "outputs": [
    {
     "name": "stdout",
     "output_type": "stream",
     "text": [
      "Occurrence Counter:\n",
      "Counter({'JavaScript': 210, 'MySQL': 209, 'PHP': 171, 'SQL': 170, 'Java': 131, 'Node.js': 116, 'AngularJS': 106, 'SQLite': 101, 'MongoDB': 101, 'PostgreSQL': 97, 'Python': 95, 'C#': 89, 'React': 89, 'SQL Server': 87, 'Redis': 77, 'C++': 70, 'Oracle': 60, '.NET Core': 57, 'Ruby': 52, 'Go': 51, 'Firebase': 50, 'C': 44, 'Xamarin': 38, 'VB.NET': 36, 'Cordova': 34, 'Hadoop': 31, 'Swift': 27, 'TypeScript': 27, 'Cassandra': 24, 'Spark': 17, 'Objective-C': 16, 'Visual Basic 6': 15, 'R': 12, 'Scala': 12, 'Elixir': 11, 'Haskell': 11, 'VBA': 10, 'CoffeeScript': 9, 'Perl': 8, 'Matlab': 8, 'Assembly': 7, 'Lua': 7, 'Rust': 5, 'Groovy': 5, 'Erlang': 5, 'Dart': 3, 'F#': 3, 'Clojure': 3, 'Julia': 3, 'Hack': 2, 'Common Lisp': 1})\n"
     ]
    }
   ],
   "source": [
    "# 2017\n",
    "df['stack_overflow_count_2017'] = 0\n",
    "\n",
    "source = pd.read_csv('data/2017.csv')\n",
    "source.columns = source.columns.str.lower()\n",
    "\n",
    "columns_to_count = [\n",
    "    'haveworkedlanguage', 'wantworklanguage',\n",
    "    'haveworkeddatabase', 'wantworkdatabase',\n",
    "    'haveworkedframework', 'wantworkframework'\n",
    "]\n",
    "\n",
    "occurrence_counter = Counter()\n",
    "\n",
    "for column in columns_to_count:\n",
    "    if column in source.columns:  \n",
    "        for languages in source[column].dropna():  \n",
    "            occurrence_counter.update(lang.strip() for lang in languages.split(';'))\n",
    "\n",
    "print(\"Occurrence Counter:\")\n",
    "print(occurrence_counter)\n",
    "\n",
    "df['stack_overflow_count_2017'] = df['programming language'].apply(\n",
    "    lambda lang: (\n",
    "        occurrence_counter.get(lang, 0) +\n",
    "        (occurrence_counter.get('VB.NET', 0) + occurrence_counter.get('Visual Basic 6', 0) if lang == 'Visual Basic' else 0) +\n",
    "        (occurrence_counter.get('Spark', 0) if lang == 'SPARK' else 0) +\n",
    "        (occurrence_counter.get('Bash/Shell', 0) if lang == 'Bash' else 0) +\n",
    "        (occurrence_counter.get('Dynamodb', 0) if lang == 'DYNAMO' else 0) +\n",
    "        (occurrence_counter.get('Matlab', 0) if lang == 'MATLAB' else 0)\n",
    "    )\n",
    ")\n"
   ]
  },
  {
   "cell_type": "code",
   "execution_count": 56,
   "metadata": {},
   "outputs": [
    {
     "name": "stdout",
     "output_type": "stream",
     "text": [
      "Occurrence Counter:\n",
      "Counter({'MySQL': 587, 'JavaScript': 564, 'HTML': 528, 'CSS': 494, 'PHP': 458, 'SQL': 451, 'Java': 414, 'Node.js': 394, 'Python': 326, 'MongoDB': 306, 'PostgreSQL': 290, 'React': 272, 'MariaDB': 262, 'SQL Server': 255, 'C++': 247, 'C#': 246, 'Bash/Shell': 221, 'Angular': 221, 'Go': 203, 'SQLite': 184, 'Redis': 180, 'C': 170, 'Elasticsearch': 149, 'Ruby': 148, 'Kotlin': 145, 'Google Cloud Storage': 134, '.NET Core': 126, 'TensorFlow': 111, 'TypeScript': 109, 'Django': 109, 'Swift': 103, 'Spring': 103, 'VB.NET': 94, 'Oracle': 93, 'Microsoft Azure (Tables, CosmosDB, SQL, etc)': 77, 'Google BigQuery': 75, 'Xamarin': 75, 'Cassandra': 69, 'Hadoop': 69, 'Memcached': 68, 'Visual Basic 6': 66, 'Cordova': 65, 'Objective-C': 63, 'Matlab': 59, 'R': 56, 'Scala': 51, 'Delphi/Object Pascal': 48, 'Assembly': 47, 'Spark': 45, 'Rust': 42, 'Lua': 40, 'Torch/PyTorch': 39, 'VBA': 38, 'CoffeeScript': 37, 'Apache HBase': 37, 'Apache Hive': 36, 'Amazon DynamoDB': 35, 'Perl': 34, 'Amazon RDS/Aurora': 29, 'Haskell': 28, 'Erlang': 27, 'Neo4j': 26, 'Hack': 24, 'Groovy': 24, 'IBM Db2': 23, 'Amazon Redshift': 23, 'Clojure': 18, 'Julia': 17, 'Cobol': 16, 'F#': 15, 'Ocaml': 12})\n"
     ]
    }
   ],
   "source": [
    "# 2018\n",
    "df['stack_overflow_count_2018'] = 0\n",
    "\n",
    "source = pd.read_csv('data/2018.csv')\n",
    "source.columns = source.columns.str.lower()\n",
    "\n",
    "columns_to_count = [\n",
    "    'languageworkedwith', 'languagedesirenextyear', \n",
    "    'databaseworkedwith', 'databasedesirenextyear',  \n",
    "    'frameworkworkedwith', 'frameworkdesirenextyear'\n",
    "]\n",
    "\n",
    "occurrence_counter = Counter()\n",
    "\n",
    "for column in columns_to_count:\n",
    "    if column in source.columns:  \n",
    "        for languages in source[column].dropna():  \n",
    "            occurrence_counter.update(lang.strip() for lang in languages.split(';'))\n",
    "\n",
    "print(\"Occurrence Counter:\")\n",
    "print(occurrence_counter)\n",
    "\n",
    "df['stack_overflow_count_2018'] = df['programming language'].apply(\n",
    "    lambda lang: (\n",
    "        occurrence_counter.get(lang, 0) +\n",
    "        (occurrence_counter.get('VB.NET', 0) + occurrence_counter.get('Visual Basic 6', 0) if lang == 'Visual Basic' else 0) +\n",
    "        (occurrence_counter.get('Spark', 0) if lang == 'SPARK' else 0) +\n",
    "        (occurrence_counter.get('Bash/Shell', 0) if lang == 'Bash' else 0) +\n",
    "        (occurrence_counter.get('Dynamodb', 0) if lang == 'DYNAMO' else 0) +\n",
    "        (occurrence_counter.get('Matlab', 0) if lang == 'MATLAB' else 0)\n",
    "    )\n",
    ")\n"
   ]
  },
  {
   "cell_type": "code",
   "execution_count": 58,
   "metadata": {},
   "outputs": [
    {
     "name": "stdout",
     "output_type": "stream",
     "text": [
      "Occurrence Counter:\n",
      "Counter({'JavaScript': 634, 'MySQL': 597, 'HTML/CSS': 573, 'SQL': 508, 'PHP': 459, 'Java': 402, 'Python': 383, 'MariaDB': 365, 'PostgreSQL': 363, 'MongoDB': 342, 'SQLite': 318, 'Firebase': 292, 'C#': 232, 'Redis': 230, 'Go': 224, 'Kotlin': 218, 'C++': 200, 'Microsoft SQL Server': 200, 'TypeScript': 190, 'Bash/Shell/PowerShell': 181, 'Elasticsearch': 144, 'Oracle': 143, 'C': 133, 'Ruby': 110, 'Dart': 103, 'Swift': 103, 'Other(s):': 97, 'Assembly': 69, 'Cassandra': 64, 'Objective-C': 62, 'DynamoDB': 58, 'R': 54, 'VBA': 51, 'Rust': 49, 'WebAssembly': 47, 'Elixir': 41, 'Couchbase': 37, 'Scala': 34, 'Erlang': 29, 'Clojure': 27, 'F#': 24})\n",
      "Occurrence Counter:\n",
      "Counter({'JavaScript': 484, 'MySQL': 456, 'HTML/CSS': 435, 'SQL': 353, 'PHP': 345, 'Python': 344, 'PostgreSQL': 315, 'Java': 300, 'MongoDB': 275, 'SQLite': 251, 'Firebase': 251, 'MariaDB': 241, 'Go': 202, 'Redis': 189, 'TypeScript': 186, 'Kotlin': 184, 'Microsoft SQL Server': 169, 'C++': 156, 'C#': 152, 'Oracle': 134, 'Elasticsearch': 134, 'Dart': 128, 'C': 117, 'Bash/Shell/PowerShell': 108, 'Ruby': 94, 'Swift': 87, 'Cassandra': 83, 'R': 66, 'Rust': 65, 'VBA': 53, 'Assembly': 45, 'DynamoDB': 39, 'IBM DB2': 37, 'Objective-C': 35, 'Couchbase': 31, 'Perl': 29, 'Scala': 29, 'Haskell': 24, 'Julia': 22})\n"
     ]
    }
   ],
   "source": [
    "# 2019 2020\n",
    "\n",
    "for num in range(2019, 2021):\n",
    "    year = str(num)\n",
    "    df['stack_overflow_count_'+year] = 0\n",
    "\n",
    "    source = pd.read_csv(f'data/{year}.csv')\n",
    "    source.columns = source.columns.str.lower()\n",
    "\n",
    "    columns_to_count = [\n",
    "        'languageworkedwith', 'languagedesirenextyear', \n",
    "        'databaseworkedwith', 'databasedesirenextyear',  \n",
    "        'frameworkworkedwith', 'frameworkdesirenextyear'\n",
    "    ]\n",
    "\n",
    "    occurrence_counter = Counter()\n",
    "\n",
    "    for column in columns_to_count:\n",
    "        if column in source.columns:  \n",
    "            for languages in source[column].dropna():  \n",
    "                occurrence_counter.update(lang.strip() for lang in languages.split(';'))\n",
    "\n",
    "    print(\"Occurrence Counter:\")\n",
    "    print(occurrence_counter)\n",
    "\n",
    "    df[f'stack_overflow_count_{year}'] = df['programming language'].apply(\n",
    "        lambda lang: (\n",
    "            occurrence_counter.get(lang, 0) +\n",
    "            (occurrence_counter.get('VB.NET', 0) + occurrence_counter.get('Visual Basic 6', 0) if lang == 'Visual Basic' else 0) +\n",
    "            (occurrence_counter.get('Spark', 0) if lang == 'SPARK' else 0) +\n",
    "            (occurrence_counter.get('Bash/Shell', 0) if lang == 'Bash' else 0) +\n",
    "            (occurrence_counter.get('Dynamodb', 0) if lang == 'DYNAMO' else 0) +\n",
    "            (occurrence_counter.get('Matlab', 0) if lang == 'MATLAB' else 0)\n",
    "        )\n",
    "    )\n"
   ]
  },
  {
   "cell_type": "code",
   "execution_count": 61,
   "metadata": {},
   "outputs": [
    {
     "name": "stdout",
     "output_type": "stream",
     "text": [
      "Occurrence Counter:\n",
      "Counter({'JavaScript': 793, 'MySQL': 677, 'HTML/CSS': 646, 'SQL': 553, 'Python': 521, 'PostgreSQL': 520, 'PHP': 501, 'Node.js': 478, 'React.js': 465, 'MongoDB': 402, 'Java': 384, 'MariaDB': 371, 'Laravel': 369, 'TypeScript': 368, 'jQuery': 367, 'SQLite': 358, 'Firebase': 344, 'Vue.js': 337, 'Redis': 319, 'Express': 317, 'Go': 286, 'C++': 259, 'C#': 244, 'Dart': 224, 'Kotlin': 215, 'Microsoft SQL Server': 205, 'Elasticsearch': 185, 'Django': 177, 'Flask': 158, 'C': 153, 'Angular': 149, 'Bash/Shell': 148, 'Spring': 126, 'Rust': 123, 'Oracle': 116, 'Angular.js': 116, 'ASP.NET Core': 109, 'ASP.NET': 99, 'Svelte': 97, 'Swift': 94, 'Ruby': 92, 'Ruby on Rails': 92, 'Gatsby': 71, 'PowerShell': 54, 'Cassandra': 54, 'R': 53, 'DynamoDB': 52, 'FastAPI': 47, 'VBA': 40, 'Matlab': 40, 'Objective-C': 39, 'Symfony': 36, 'Assembly': 34, 'Elixir': 33, 'Delphi': 33, 'Couchbase': 29, 'Drupal': 26, 'Haskell': 23, 'Groovy': 21, 'Scala': 19, 'IBM DB2': 19, 'Clojure': 14, 'F#': 14, 'Julia': 12, 'APL': 11, 'Perl': 11, 'Erlang': 9, 'LISP': 8, 'COBOL': 7, 'Crystal': 4})\n",
      "Occurrence Counter:\n",
      "Counter({'JavaScript': 667, 'MySQL': 593, 'HTML/CSS': 521, 'SQL': 493, 'PostgreSQL': 460, 'Python': 445, 'Node.js': 437, 'PHP': 423, 'React.js': 381, 'MongoDB': 370, 'TypeScript': 353, 'Laravel': 307, 'Java': 302, 'Redis': 301, 'MariaDB': 295, 'Go': 288, 'jQuery': 286, 'SQLite': 276, 'Vue.js': 264, 'Express': 253, 'Next.js': 244, 'Kotlin': 193, 'Dart': 193, 'C++': 184, 'C#': 172, 'Firebase Realtime Database': 171, 'Rust': 146, 'Microsoft SQL Server': 142, 'Bash/Shell': 140, 'Django': 130, 'C': 122, 'Elasticsearch': 119, 'Nuxt.js': 116, 'Flask': 116, 'Cloud Firestore': 106, 'Oracle': 104, 'Svelte': 104, 'ASP.NET Core': 77, 'Angular': 76, 'FastAPI': 75, 'Angular.js': 63, 'Swift': 60, 'Ruby': 59, 'Ruby on Rails': 55, 'Deno': 54, 'ASP.NET': 51, 'R': 50, 'PowerShell': 47, 'Delphi': 43, 'DynamoDB': 42, 'VBA': 41, 'Cassandra': 36, 'Gatsby': 35, 'Symfony': 33, 'Lua': 31, 'MATLAB': 31, 'Fastify': 31, 'Solidity': 30, 'Assembly': 29, 'Blazor': 27, 'Elixir': 26, 'Neo4j': 26, 'CouchDB': 23, 'Scala': 22, 'Phoenix': 22, 'Clojure': 17, 'Julia': 16, 'Erlang': 16, 'Objective-C': 15, 'IBM DB2': 15, 'Drupal': 15, 'Haskell': 13, 'Groovy': 13, 'F#': 11, 'Perl': 10, 'Couchbase': 10, 'Play Framework': 10, 'Fortran': 8, 'APL': 8, 'Crystal': 7, 'LISP': 7, 'COBOL': 7, 'SAS': 6, 'OCaml': 5})\n",
      "Occurrence Counter:\n",
      "Counter({'JavaScript': 590, 'PostgreSQL': 500, 'HTML/CSS': 475, 'MySQL': 470, 'SQL': 425, 'Node.js': 410, 'Python': 407, 'TypeScript': 380, 'React': 376, 'PHP': 323, 'MongoDB': 293, 'Next.js': 281, 'Go': 279, 'SQLite': 266, 'Laravel': 266, 'MariaDB': 258, 'Redis': 250, 'Express': 237, 'Java': 236, 'Vue.js': 227, 'jQuery': 224, 'C++': 180, 'Rust': 180, 'Dart': 177, 'Bash/Shell (all shells)': 172, 'C#': 167, 'Kotlin': 153, 'C': 143, 'Svelte': 140, 'Firebase Realtime Database': 138, 'Microsoft SQL Server': 130, 'CodeIgniter': 130, 'WordPress': 128, 'Cloud Firestore': 116, 'Elasticsearch': 115, 'Django': 112, 'Supabase': 107, 'Nuxt.js': 105, 'Flask': 100, 'NestJS': 90, 'Spring Boot': 88, 'Oracle': 87, 'BigQuery': 86, 'FastAPI': 85, 'Angular': 80, 'ASP.NET CORE': 72, 'Ruby': 67, 'PowerShell': 66, 'ASP.NET': 62, 'AngularJS': 62, 'Deno': 58, 'Ruby on Rails': 58, 'Cassandra': 56, 'Dynamodb': 55, 'Swift': 54, 'Visual Basic (.Net)': 50, 'R': 47, 'Solid.js': 45, 'Elixir': 44, 'Lua': 43, 'Fastify': 42, 'Remix': 40, 'Assembly': 38, 'Microsoft Access': 38, 'Zig': 36, 'Qwik': 35, 'GDScript': 34, 'Cockroachdb': 30, 'Gatsby': 30, 'MATLAB': 28, 'VBA': 26, 'Delphi': 26, 'Blazor': 26, 'Haskell': 23, 'Symfony': 23, 'Phoenix': 22, 'Julia': 21, 'Cosmos DB': 21, 'Neo4J': 21, 'H2': 21, 'Scala': 20, 'IBM DB2': 20, 'Couch DB': 20, 'Clickhouse': 19, 'Objective-C': 18, 'Solidity': 18, 'InfluxDB': 18, 'Drupal': 18, 'DuckDB': 17, 'Crystal': 15, 'Ada': 15, 'Solr': 15, 'Groovy': 14, 'Clojure': 14, 'Erlang': 14, 'Cobol': 14, 'Perl': 13, 'Fortran': 13, 'Couchbase': 13, 'Firebird': 12, 'Prolog': 11, 'Nim': 11, 'F#': 11, 'Lit': 11, 'OCaml': 10, 'Lisp': 10, 'Snowflake': 10, 'APL': 9, 'Apex': 9, 'Elm': 9, 'SAS': 8, 'Flow': 8, 'Datomic': 8, 'TiDB': 8, 'RavenDB': 7, 'Play Framework': 7, 'Raku': 3})\n",
      "Occurrence Counter:\n",
      "Counter({'JavaScript': 474, 'HTML/CSS': 403, 'PostgreSQL': 399, 'SQL': 390, 'MySQL': 380, 'Python': 311, 'Node.js': 291, 'TypeScript': 284, 'React': 284, 'PHP': 272, 'SQLite': 256, 'Go': 249, 'Next.js': 231, 'MongoDB': 222, 'Laravel': 213, 'Redis': 212, 'MariaDB': 204, 'Java': 202, 'jQuery': 191, 'Express': 176, 'Vue.js': 174, 'Rust': 152, 'C#': 146, 'C++': 146, 'Kotlin': 135, 'Bash/Shell (all shells)': 130, 'Dart': 129, 'C': 120, 'Microsoft SQL Server': 120, 'Firebase Realtime Database': 116, 'Django': 107, 'Svelte': 105, 'CodeIgniter': 104, 'Flask': 98, 'Elasticsearch': 97, 'WordPress': 97, 'Supabase': 92, 'Spring Boot': 90, 'Oracle': 79, 'Nuxt.js': 77, 'FastAPI': 75, 'ASP.NET CORE': 73, 'NestJS': 72, 'PowerShell': 63, 'ASP.NET': 63, 'Htmx': 61, 'Cloud Firestore': 60, 'BigQuery': 60, 'Angular': 55, 'Visual Basic (.Net)': 54, 'Astro': 52, 'AngularJS': 50, 'Swift': 49, 'Lua': 46, 'Ruby': 42, 'R': 41, 'Ruby on Rails': 41, 'Microsoft Access': 38, 'Dynamodb': 38, 'Solid.js': 36, 'Assembly': 35, 'Cassandra': 35, 'Elixir': 34, 'Fastify': 32, 'Remix': 32, 'Deno': 31, 'MATLAB': 29, 'VBA': 28, 'Delphi': 28, 'Zig': 28, 'Strapi': 27, 'GDScript': 26, 'Yii 2': 25, 'Blazor': 25, 'Clickhouse': 24, 'Phoenix': 24, 'Symfony': 23, 'Cockroachdb': 21, 'DuckDB': 21, 'Drupal': 21, 'Solidity': 19, 'Gatsby': 19, 'Scala': 18, 'Erlang': 18, 'Neo4J': 18, 'Objective-C': 17, 'Groovy': 16, 'Clojure': 16, 'H2': 16, 'Firebird': 16, 'Julia': 15, 'InfluxDB': 15, 'Perl': 14, 'IBM DB2': 14, 'Snowflake': 14, 'Lisp': 13, 'Cobol': 13, 'MicroPython': 13, 'Solr': 13, 'Couch DB': 13, 'TiDB': 13, 'Crystal': 12, 'F#': 12, 'OCaml': 12, 'Ada': 11, 'Fortran': 11, 'Haskell': 11, 'Prolog': 11, 'Datomic': 11, 'Databricks SQL': 10, 'Cosmos DB': 10, 'RavenDB': 10, 'Apex': 9, 'Couchbase': 9, 'EventStoreDB': 9, 'Nim': 8, 'Presto': 8, 'Zephyr': 7, 'Elm': 7, 'Play Framework': 6})\n"
     ]
    }
   ],
   "source": [
    "# 2021 - 2024\n",
    "\n",
    "for num in range(2021, 2025):\n",
    "    year = str(num)\n",
    "    df['stack_overflow_count_'+year] = 0\n",
    "\n",
    "    source = pd.read_csv(f'data/{year}.csv')\n",
    "    source.columns = source.columns.str.lower()\n",
    "\n",
    "    columns_to_count = [\n",
    "        'languagehaveworkedwith', 'languagewanttoworkwith', \n",
    "        'databasehaveworkedwith', 'databasewanttoworkwith', \n",
    "        'webframehaveworkedwith', 'webframewanttoworkwith'\n",
    "    ]\n",
    "\n",
    "    occurrence_counter = Counter()\n",
    "\n",
    "    for column in columns_to_count:\n",
    "        if column in source.columns:  \n",
    "            for languages in source[column].dropna():  \n",
    "                occurrence_counter.update(lang.strip() for lang in languages.split(';'))\n",
    "\n",
    "    print(\"Occurrence Counter:\")\n",
    "    print(occurrence_counter)\n",
    "\n",
    "    df[f'stack_overflow_count_{year}'] = df['programming language'].apply(\n",
    "        lambda lang: (\n",
    "            occurrence_counter.get(lang, 0) +\n",
    "            (occurrence_counter.get('VB.NET', 0) + occurrence_counter.get('Visual Basic 6', 0) if lang == 'Visual Basic' else 0) +\n",
    "            (occurrence_counter.get('Spark', 0) if lang == 'SPARK' else 0) +\n",
    "            (occurrence_counter.get('Bash/Shell', 0) if lang == 'Bash' else 0) +\n",
    "            (occurrence_counter.get('Dynamodb', 0) if lang == 'DYNAMO' else 0) +\n",
    "            (occurrence_counter.get('Matlab', 0) if lang == 'MATLAB' else 0)\n",
    "        )\n",
    "    )\n"
   ]
  },
  {
   "cell_type": "code",
   "execution_count": 66,
   "metadata": {},
   "outputs": [],
   "source": [
    "df[df['stack_overflow_count_2024'] != 0]\n",
    "df.to_csv('yearly_stack_overflow_count.csv', index=False)"
   ]
  },
  {
   "cell_type": "code",
   "execution_count": 64,
   "metadata": {},
   "outputs": [
    {
     "data": {
      "text/html": [
       "<div>\n",
       "<style scoped>\n",
       "    .dataframe tbody tr th:only-of-type {\n",
       "        vertical-align: middle;\n",
       "    }\n",
       "\n",
       "    .dataframe tbody tr th {\n",
       "        vertical-align: top;\n",
       "    }\n",
       "\n",
       "    .dataframe thead th {\n",
       "        text-align: right;\n",
       "    }\n",
       "</style>\n",
       "<table border=\"1\" class=\"dataframe\">\n",
       "  <thead>\n",
       "    <tr style=\"text-align: right;\">\n",
       "      <th></th>\n",
       "      <th>programming language</th>\n",
       "      <th>stack_overflow_count_2014</th>\n",
       "      <th>stack_overflow_count_2015</th>\n",
       "      <th>stack_overflow_count_2016</th>\n",
       "      <th>stack_overflow_count_2017</th>\n",
       "      <th>stack_overflow_count_2018</th>\n",
       "      <th>stack_overflow_count_2019</th>\n",
       "      <th>stack_overflow_count_2020</th>\n",
       "      <th>stack_overflow_count_2021</th>\n",
       "      <th>stack_overflow_count_2022</th>\n",
       "      <th>stack_overflow_count_2023</th>\n",
       "      <th>stack_overflow_count_2024</th>\n",
       "    </tr>\n",
       "  </thead>\n",
       "  <tbody>\n",
       "    <tr>\n",
       "      <th>17</th>\n",
       "      <td>ASP.NET</td>\n",
       "      <td>1</td>\n",
       "      <td>0</td>\n",
       "      <td>0</td>\n",
       "      <td>0</td>\n",
       "      <td>0</td>\n",
       "      <td>0</td>\n",
       "      <td>0</td>\n",
       "      <td>99</td>\n",
       "      <td>51</td>\n",
       "      <td>62</td>\n",
       "      <td>63</td>\n",
       "    </tr>\n",
       "  </tbody>\n",
       "</table>\n",
       "</div>"
      ],
      "text/plain": [
       "   programming language  stack_overflow_count_2014  stack_overflow_count_2015  \\\n",
       "17              ASP.NET                          1                          0   \n",
       "\n",
       "    stack_overflow_count_2016  stack_overflow_count_2017  \\\n",
       "17                          0                          0   \n",
       "\n",
       "    stack_overflow_count_2018  stack_overflow_count_2019  \\\n",
       "17                          0                          0   \n",
       "\n",
       "    stack_overflow_count_2020  stack_overflow_count_2021  \\\n",
       "17                          0                         99   \n",
       "\n",
       "    stack_overflow_count_2022  stack_overflow_count_2023  \\\n",
       "17                         51                         62   \n",
       "\n",
       "    stack_overflow_count_2024  \n",
       "17                         63  "
      ]
     },
     "execution_count": 64,
     "metadata": {},
     "output_type": "execute_result"
    }
   ],
   "source": [
    "df[df['programming language'] == 'ASP.NET']"
   ]
  }
 ],
 "metadata": {
  "kernelspec": {
   "display_name": "Python 3",
   "language": "python",
   "name": "python3"
  },
  "language_info": {
   "codemirror_mode": {
    "name": "ipython",
    "version": 3
   },
   "file_extension": ".py",
   "mimetype": "text/x-python",
   "name": "python",
   "nbconvert_exporter": "python",
   "pygments_lexer": "ipython3",
   "version": "3.11.5"
  }
 },
 "nbformat": 4,
 "nbformat_minor": 2
}
