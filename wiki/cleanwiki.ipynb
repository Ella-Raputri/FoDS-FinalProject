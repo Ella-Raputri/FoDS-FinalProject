{
 "cells": [
  {
   "cell_type": "code",
   "execution_count": 1,
   "metadata": {},
   "outputs": [],
   "source": [
    "import pandas as pd\n",
    "import os"
   ]
  },
  {
   "cell_type": "code",
   "execution_count": 2,
   "metadata": {},
   "outputs": [],
   "source": [
    "folder_path = 'wikidata'\n",
    "dataframes = []"
   ]
  },
  {
   "cell_type": "code",
   "execution_count": 3,
   "metadata": {},
   "outputs": [],
   "source": [
    "dataframes = []\n",
    "\n",
    "for file in os.listdir(folder_path):\n",
    "    file_path = os.path.join(folder_path, file)  \n",
    "    try:\n",
    "        df = pd.read_csv(file_path)  \n",
    "        if not df.empty:  \n",
    "            dataframes.append(df) \n",
    "        else:\n",
    "            print(f\"Warning: The file {file} is empty.\")\n",
    "    \n",
    "    except Exception as e:\n",
    "        print(f\"Error reading {file}: {e}\")"
   ]
  },
  {
   "cell_type": "code",
   "execution_count": 4,
   "metadata": {},
   "outputs": [],
   "source": [
    "if dataframes:\n",
    "    combined_df = dataframes[0]\n",
    "\n",
    "    for df in dataframes[1:]:\n",
    "        combined_df = combined_df.merge(df, on='Date', how='outer')  \n",
    "\n",
    "    combined_df.to_csv('combined_wikidata.csv', index=False)\n",
    "    \n",
    "else:\n",
    "    print(\"No valid CSV files were found to merge.\")"
   ]
  },
  {
   "cell_type": "code",
   "execution_count": 11,
   "metadata": {},
   "outputs": [
    {
     "name": "stdout",
     "output_type": "stream",
     "text": [
      "<class 'pandas.core.frame.DataFrame'>\n",
      "RangeIndex: 111 entries, 0 to 110\n",
      "Data columns (total 49 columns):\n",
      " #   Column                         Non-Null Count  Dtype \n",
      "---  ------                         --------------  ----- \n",
      " 0   Date                           111 non-null    object\n",
      " 1   Dart (bahasa pemrograman)      111 non-null    int64 \n",
      " 2   PostgreSQL                     111 non-null    int64 \n",
      " 3   SQL                            111 non-null    int64 \n",
      " 4   MySQL                          111 non-null    int64 \n",
      " 5   Python (bahasa pemrograman)    111 non-null    int64 \n",
      " 6   Kernel (ilmu komputer)         111 non-null    int64 \n",
      " 7   ASP.NET                        111 non-null    int64 \n",
      " 8   C                              111 non-null    int64 \n",
      " 9   C++                            111 non-null    int64 \n",
      " 10  Go                             111 non-null    int64 \n",
      " 11  Ruby (bahasa pemrograman)      111 non-null    int64 \n",
      " 12  Ada (bahasa pemrograman)       111 non-null    int64 \n",
      " 13  MariaDB                        111 non-null    int64 \n",
      " 14  Solidity                       111 non-null    int64 \n",
      " 15  Swift (bahasa pemrograman)     111 non-null    int64 \n",
      " 16  Kotlin (bahasa pemrograman)    111 non-null    int64 \n",
      " 17  Perl                           111 non-null    int64 \n",
      " 18  Scratch (bahasa pemrograman)   111 non-null    int64 \n",
      " 19  R (bahasa pemrograman)         111 non-null    int64 \n",
      " 20  Scala (bahasa pemrograman)     111 non-null    int64 \n",
      " 21  Rust (bahasa pemrograman)      111 non-null    int64 \n",
      " 22  MATLAB                         111 non-null    int64 \n",
      " 23  SQLite                         111 non-null    int64 \n",
      " 24  Bash (syel Unix)               111 non-null    int64 \n",
      " 25  Bahasa rakitan                 111 non-null    int64 \n",
      " 26  PowerShell                     111 non-null    int64 \n",
      " 27  FoxPro                         111 non-null    int64 \n",
      " 28  Embarcadero Delphi             111 non-null    int64 \n",
      " 29  Visual FoxPro                  111 non-null    int64 \n",
      " 30  Unity (mesin permainan)        111 non-null    int64 \n",
      " 31  Arduino                        111 non-null    int64 \n",
      " 32  Statistical Analysis System    111 non-null    int64 \n",
      " 33  SPSS                           111 non-null    int64 \n",
      " 34  Haskell                        111 non-null    int64 \n",
      " 35  SQLAlchemy                     111 non-null    int64 \n",
      " 36  Sage                           111 non-null    int64 \n",
      " 37  Lisp (bahasa pemrograman)      111 non-null    int64 \n",
      " 38  Lua (bahasa pemrograman)       111 non-null    int64 \n",
      " 39  Visual Basic for Applications  111 non-null    int64 \n",
      " 40  ActionScript                   111 non-null    int64 \n",
      " 41  Elixir (bahasa pemrograman)    111 non-null    int64 \n",
      " 42  Stata                          111 non-null    int64 \n",
      " 43  VBScript                       111 non-null    int64 \n",
      " 44  Java                           111 non-null    int64 \n",
      " 45  JavaScript                     111 non-null    int64 \n",
      " 46  Node.js                        111 non-null    int64 \n",
      " 47  PHP                            111 non-null    int64 \n",
      " 48  Visual Basic                   111 non-null    int64 \n",
      "dtypes: int64(48), object(1)\n",
      "memory usage: 42.6+ KB\n"
     ]
    }
   ],
   "source": [
    "combined_df.info()"
   ]
  },
  {
   "cell_type": "code",
   "execution_count": 18,
   "metadata": {},
   "outputs": [
    {
     "ename": "KeyError",
     "evalue": "\"None of [Index(['typescript'], dtype='object')] are in the [columns]\"",
     "output_type": "error",
     "traceback": [
      "\u001b[1;31m---------------------------------------------------------------------------\u001b[0m",
      "\u001b[1;31mKeyError\u001b[0m                                  Traceback (most recent call last)",
      "Cell \u001b[1;32mIn[18], line 1\u001b[0m\n\u001b[1;32m----> 1\u001b[0m \u001b[43mcombined_df\u001b[49m\u001b[43m[\u001b[49m\u001b[43m[\u001b[49m\u001b[38;5;124;43m'\u001b[39;49m\u001b[38;5;124;43mtypescript\u001b[39;49m\u001b[38;5;124;43m'\u001b[39;49m\u001b[43m]\u001b[49m\u001b[43m]\u001b[49m\n",
      "File \u001b[1;32mc:\\Users\\Asus\\AppData\\Local\\Programs\\Python\\Python311\\Lib\\site-packages\\pandas\\core\\frame.py:4108\u001b[0m, in \u001b[0;36mDataFrame.__getitem__\u001b[1;34m(self, key)\u001b[0m\n\u001b[0;32m   4106\u001b[0m     \u001b[38;5;28;01mif\u001b[39;00m is_iterator(key):\n\u001b[0;32m   4107\u001b[0m         key \u001b[38;5;241m=\u001b[39m \u001b[38;5;28mlist\u001b[39m(key)\n\u001b[1;32m-> 4108\u001b[0m     indexer \u001b[38;5;241m=\u001b[39m \u001b[38;5;28;43mself\u001b[39;49m\u001b[38;5;241;43m.\u001b[39;49m\u001b[43mcolumns\u001b[49m\u001b[38;5;241;43m.\u001b[39;49m\u001b[43m_get_indexer_strict\u001b[49m\u001b[43m(\u001b[49m\u001b[43mkey\u001b[49m\u001b[43m,\u001b[49m\u001b[43m \u001b[49m\u001b[38;5;124;43m\"\u001b[39;49m\u001b[38;5;124;43mcolumns\u001b[39;49m\u001b[38;5;124;43m\"\u001b[39;49m\u001b[43m)\u001b[49m[\u001b[38;5;241m1\u001b[39m]\n\u001b[0;32m   4110\u001b[0m \u001b[38;5;66;03m# take() does not accept boolean indexers\u001b[39;00m\n\u001b[0;32m   4111\u001b[0m \u001b[38;5;28;01mif\u001b[39;00m \u001b[38;5;28mgetattr\u001b[39m(indexer, \u001b[38;5;124m\"\u001b[39m\u001b[38;5;124mdtype\u001b[39m\u001b[38;5;124m\"\u001b[39m, \u001b[38;5;28;01mNone\u001b[39;00m) \u001b[38;5;241m==\u001b[39m \u001b[38;5;28mbool\u001b[39m:\n",
      "File \u001b[1;32mc:\\Users\\Asus\\AppData\\Local\\Programs\\Python\\Python311\\Lib\\site-packages\\pandas\\core\\indexes\\base.py:6200\u001b[0m, in \u001b[0;36mIndex._get_indexer_strict\u001b[1;34m(self, key, axis_name)\u001b[0m\n\u001b[0;32m   6197\u001b[0m \u001b[38;5;28;01melse\u001b[39;00m:\n\u001b[0;32m   6198\u001b[0m     keyarr, indexer, new_indexer \u001b[38;5;241m=\u001b[39m \u001b[38;5;28mself\u001b[39m\u001b[38;5;241m.\u001b[39m_reindex_non_unique(keyarr)\n\u001b[1;32m-> 6200\u001b[0m \u001b[38;5;28;43mself\u001b[39;49m\u001b[38;5;241;43m.\u001b[39;49m\u001b[43m_raise_if_missing\u001b[49m\u001b[43m(\u001b[49m\u001b[43mkeyarr\u001b[49m\u001b[43m,\u001b[49m\u001b[43m \u001b[49m\u001b[43mindexer\u001b[49m\u001b[43m,\u001b[49m\u001b[43m \u001b[49m\u001b[43maxis_name\u001b[49m\u001b[43m)\u001b[49m\n\u001b[0;32m   6202\u001b[0m keyarr \u001b[38;5;241m=\u001b[39m \u001b[38;5;28mself\u001b[39m\u001b[38;5;241m.\u001b[39mtake(indexer)\n\u001b[0;32m   6203\u001b[0m \u001b[38;5;28;01mif\u001b[39;00m \u001b[38;5;28misinstance\u001b[39m(key, Index):\n\u001b[0;32m   6204\u001b[0m     \u001b[38;5;66;03m# GH 42790 - Preserve name from an Index\u001b[39;00m\n",
      "File \u001b[1;32mc:\\Users\\Asus\\AppData\\Local\\Programs\\Python\\Python311\\Lib\\site-packages\\pandas\\core\\indexes\\base.py:6249\u001b[0m, in \u001b[0;36mIndex._raise_if_missing\u001b[1;34m(self, key, indexer, axis_name)\u001b[0m\n\u001b[0;32m   6247\u001b[0m \u001b[38;5;28;01mif\u001b[39;00m nmissing:\n\u001b[0;32m   6248\u001b[0m     \u001b[38;5;28;01mif\u001b[39;00m nmissing \u001b[38;5;241m==\u001b[39m \u001b[38;5;28mlen\u001b[39m(indexer):\n\u001b[1;32m-> 6249\u001b[0m         \u001b[38;5;28;01mraise\u001b[39;00m \u001b[38;5;167;01mKeyError\u001b[39;00m(\u001b[38;5;124mf\u001b[39m\u001b[38;5;124m\"\u001b[39m\u001b[38;5;124mNone of [\u001b[39m\u001b[38;5;132;01m{\u001b[39;00mkey\u001b[38;5;132;01m}\u001b[39;00m\u001b[38;5;124m] are in the [\u001b[39m\u001b[38;5;132;01m{\u001b[39;00maxis_name\u001b[38;5;132;01m}\u001b[39;00m\u001b[38;5;124m]\u001b[39m\u001b[38;5;124m\"\u001b[39m)\n\u001b[0;32m   6251\u001b[0m     not_found \u001b[38;5;241m=\u001b[39m \u001b[38;5;28mlist\u001b[39m(ensure_index(key)[missing_mask\u001b[38;5;241m.\u001b[39mnonzero()[\u001b[38;5;241m0\u001b[39m]]\u001b[38;5;241m.\u001b[39munique())\n\u001b[0;32m   6252\u001b[0m     \u001b[38;5;28;01mraise\u001b[39;00m \u001b[38;5;167;01mKeyError\u001b[39;00m(\u001b[38;5;124mf\u001b[39m\u001b[38;5;124m\"\u001b[39m\u001b[38;5;132;01m{\u001b[39;00mnot_found\u001b[38;5;132;01m}\u001b[39;00m\u001b[38;5;124m not in index\u001b[39m\u001b[38;5;124m\"\u001b[39m)\n",
      "\u001b[1;31mKeyError\u001b[0m: \"None of [Index(['typescript'], dtype='object')] are in the [columns]\""
     ]
    }
   ],
   "source": [
    "combined_df[['typescript']]"
   ]
  }
 ],
 "metadata": {
  "kernelspec": {
   "display_name": "Python 3",
   "language": "python",
   "name": "python3"
  },
  "language_info": {
   "codemirror_mode": {
    "name": "ipython",
    "version": 3
   },
   "file_extension": ".py",
   "mimetype": "text/x-python",
   "name": "python",
   "nbconvert_exporter": "python",
   "pygments_lexer": "ipython3",
   "version": "3.11.5"
  }
 },
 "nbformat": 4,
 "nbformat_minor": 2
}
